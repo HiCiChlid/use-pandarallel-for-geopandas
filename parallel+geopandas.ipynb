{
 "cells": [
  {
   "cell_type": "code",
   "execution_count": null,
   "id": "f0958357",
   "metadata": {},
   "outputs": [],
   "source": [
    "import geopandas as gpd\n",
    "import pandas as pd\n",
    "from glob import glob\n",
    "import numpy as np\n",
    "import math\n",
    "import gc\n",
    "import psutil"
   ]
  },
  {
   "cell_type": "code",
   "execution_count": null,
   "id": "fd9f0394",
   "metadata": {},
   "outputs": [],
   "source": [
    "import os\n",
    "\n",
    "# Define the folder path you want to check （定义你想要检查的文件夹路径）\n",
    "folder_path = '/mnt/ramdisk' \n",
    "\n",
    "# Check if the folder exists （检查文件夹是否存在）\n",
    "if not os.path.exists(folder_path):\n",
    "    # If the folder does not exist, create the folder （如果文件夹不存在，则创建文件夹）\n",
    "    os.makedirs(folder_path)\n",
    "\n",
    "from pandarallel import pandarallel\n",
    "os.environ['JOBLIB_TEMP_FOLDER'] = '/mnt/ramdisk' \n",
    "pandarallel.initialize(nb_workers=6,progress_bar=True,verbose=2,use_memory_fs = False ) "
   ]
  },
  {
   "cell_type": "code",
   "execution_count": null,
   "id": "4beeb32e",
   "metadata": {},
   "outputs": [],
   "source": [
    "def delete_file(folder_path):\n",
    "    # Use the glob module to find all files in a folder （使用 glob 模块找到文件夹中的所有文件）\n",
    "    files = glob(folder_path + '/*')\n",
    "    # Iterate through the file list and delete each file using os.remove （遍历文件列表，使用 os.remove 删除每个文件）\n",
    "    for file in files:\n",
    "        os.remove(file)"
   ]
  },
  {
   "cell_type": "code",
   "execution_count": null,
   "id": "188fcbc8",
   "metadata": {},
   "outputs": [],
   "source": [
    "def now_ram():\n",
    "    mem_info = psutil.Process(os.getpid()).memory_info().rss\n",
    "    print('python ram usage：%.4f GB' % (mem_info / 1024 / 1024 / 1024))"
   ]
  },
  {
   "cell_type": "code",
   "execution_count": null,
   "id": "c4b14255",
   "metadata": {},
   "outputs": [],
   "source": [
    "def function(x):\n",
    "    name=\"...\"\n",
    "    #... Add the appropriate content ... A dataframe usually contains a geometry attribute, which is stored as a pickle.\n",
    "    #(... 添加相应内容 ... dataframe 中一般是包含 geometry 属性的，先用pickle的形式暂存)\n",
    "    x.to_pickle(\"/mnt/ramdisk/%s.pkl\"%name)"
   ]
  },
  {
   "cell_type": "code",
   "execution_count": null,
   "id": "03d0b586",
   "metadata": {},
   "outputs": [],
   "source": [
    "def check_new_pid(seen_pids, new_pids=set(), first=False):\n",
    "    for proc in psutil.process_iter(['pid', 'cmdline']):\n",
    "        # Check command line parameters (检查命令行参数)\n",
    "        if '/usr/bin/python3' in proc.info['cmdline']:\n",
    "            #print(proc.info['cmdline'])\n",
    "            child_processes = proc.children(recursive=True)\n",
    "            #print(child_processes)\n",
    "            if first==True:\n",
    "                for child in child_processes:\n",
    "                    seen_pids.add(child.pid)\n",
    "                return seen_pids\n",
    "            else:\n",
    "                for child in child_processes:\n",
    "                    if child.pid not in seen_pids:\n",
    "                        new_pids.add(child.pid)\n",
    "                return new_pids"
   ]
  },
  {
   "cell_type": "code",
   "execution_count": null,
   "id": "22b74d22",
   "metadata": {},
   "outputs": [],
   "source": [
    "# Check existing python processes (检查现有的python进程)\n",
    "seen_pids = check_new_pid(seen_pids=set(), first=True)\n",
    "print(seen_pids)"
   ]
  },
  {
   "cell_type": "code",
   "execution_count": null,
   "id": "0b900d0b",
   "metadata": {},
   "outputs": [],
   "source": [
    "delete_file(\"/mnt/ramdisk\")\n",
    "os.system(\"mount -t tmpfs -o size=10000M tmpfs /mnt/ramdisk\")\n",
    "print(\"Mounting the virtual disk is completed\")\n",
    "print(\"挂载虚拟盘完成\")\n",
    "\n",
    "AS=gpd.read_file(\"./your_shp_path\")\n",
    "AS.parallel_apply(lambda x: function(x),axis=1)\n",
    "print(\"Distribution calculation complete\")\n",
    "print(\"分布计算完成\")\n",
    "\n",
    "now_ram()\n",
    "\n",
    "df_list=[pd.read_pickle(i) for i in glob(\"/mnt/ramdisk/*.pkl\")] # Must be saved to a variable, otherwise the memory will not be recycled (一定要保存到一个变量中，否则内存不回收)\n",
    "\n",
    "now_ram()\n",
    "\n",
    "buffer_AS=pd.concat(df_list)\n",
    "\n",
    "del df_list # Be sure to reclaim memory immediately (一定要立即回收内存)\n",
    "gc.collect()\n",
    "\n",
    "now_ram()\n",
    "print(\"Merge complete\")\n",
    "print(\"合并完成\")\n",
    "\n",
    "#... Add the appropriate content ... Generally, the operations on the merged buffer_AS\n",
    "#... 添加相应内容 ... 一般是对合并后的 buffer_AS 进行相关的操作\n",
    "\n",
    "output.to_file(\"./your_output_shp_path\") # Export shp (导出shp)\n",
    "print(\"Export complete\")\n",
    "print(\"导出完成\")\n",
    "\n",
    "now_ram()\n",
    "\n",
    "del buffer_AS #Clean up used variables to prevent memory from not being reclaimed (把用过的变量清理掉，防止内存不回收)\n",
    "gc.collect()\n",
    "\n",
    "now_ram()\n",
    "\n",
    "# Check for emerging python processes and kill the ones that don't exit automatically.\n",
    "# (检查新出现的python进程，kill掉没有自动退出的子进程)\n",
    "new_pid=check_new_pid(seen_pids=seen_pids)\n",
    "for pid in new_pid:\n",
    "    # Use the kill -9 command to stop the process (使用 kill -9 命令停止进程)\n",
    "    os.system(f'kill -9 {pid}')\n",
    "\n",
    "now_ram()\n",
    "\n",
    "# Clean up the cache files (对缓存文件进行清理)\n",
    "delete_file(\"/mnt/ramdisk\")\n",
    "os.system('umount -l /mnt/ramdisk')\n",
    "delete_file(\"/dev/shm\")\n",
    "Print(\"Cleanup complete\")\n",
    "print(\"清理完成\")"
   ]
  }
 ],
 "metadata": {
  "kernelspec": {
   "display_name": "Python 3",
   "language": "python",
   "name": "python3"
  },
  "language_info": {
   "codemirror_mode": {
    "name": "ipython",
    "version": 3
   },
   "file_extension": ".py",
   "mimetype": "text/x-python",
   "name": "python",
   "nbconvert_exporter": "python",
   "pygments_lexer": "ipython3",
   "version": "3.6.9"
  },
  "toc": {
   "base_numbering": 1,
   "nav_menu": {},
   "number_sections": true,
   "sideBar": true,
   "skip_h1_title": false,
   "title_cell": "Table of Contents",
   "title_sidebar": "Contents",
   "toc_cell": false,
   "toc_position": {},
   "toc_section_display": true,
   "toc_window_display": false
  },
  "varInspector": {
   "cols": {
    "lenName": 16,
    "lenType": 16,
    "lenVar": 40
   },
   "kernels_config": {
    "python": {
     "delete_cmd_postfix": "",
     "delete_cmd_prefix": "del ",
     "library": "var_list.py",
     "varRefreshCmd": "print(var_dic_list())"
    },
    "r": {
     "delete_cmd_postfix": ") ",
     "delete_cmd_prefix": "rm(",
     "library": "var_list.r",
     "varRefreshCmd": "cat(var_dic_list()) "
    }
   },
   "types_to_exclude": [
    "module",
    "function",
    "builtin_function_or_method",
    "instance",
    "_Feature"
   ],
   "window_display": false
  }
 },
 "nbformat": 4,
 "nbformat_minor": 5
}
